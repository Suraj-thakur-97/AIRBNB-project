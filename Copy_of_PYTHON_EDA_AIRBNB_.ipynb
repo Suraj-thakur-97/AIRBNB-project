{
  "nbformat": 4,
  "nbformat_minor": 0,
  "metadata": {
    "colab": {
      "private_outputs": true,
      "provenance": [],
      "collapsed_sections": [
        "mDgbUHAGgjLW",
        "PoPl-ycgm1ru",
        "bKJF3rekwFvQ",
        "MSa1f5Uengrz",
        "K5QZ13OEpz2H",
        "lQ7QKXXCp7Bj",
        "448CDAPjqfQr",
        "KSlN3yHqYklG",
        "t6dVpIINYklI",
        "ijmpgYnKYklI",
        "-JiQyfWJYklI",
        "EM7whBJCYoAo",
        "fge-S5ZAYoAp",
        "85gYPyotYoAp",
        "RoGjAbkUYoAp",
        "4Of9eVA-YrdM",
        "iky9q4vBYrdO",
        "F6T5p64dYrdO",
        "y-Ehk30pYrdP",
        "bamQiAODYuh1",
        "QHF8YVU7Yuh3",
        "GwzvFGzlYuh3",
        "qYpmQ266Yuh3",
        "OH-pJp9IphqM",
        "bbFf2-_FphqN",
        "_ouA3fa0phqN",
        "Seke61FWphqN",
        "t27r6nlMphqO",
        "r2jJGEOYphqO",
        "b0JNsNcRphqO",
        "jj7wYXLtphqO",
        "eZrbJ2SmphqO",
        "rFu4xreNphqO",
        "gCFgpxoyphqP",
        "OVtJsKN_phqQ",
        "lssrdh5qphqQ",
        "1M8mcRywphqQ",
        "tgIPom80phqQ",
        "JMzcOPDDphqR",
        "X_VqEhTip1ck",
        "8zGJKyg5p1ck",
        "PVzmfK_Ep1ck",
        "ZWILFDl5p1ck",
        "M7G43BXep1ck",
        "NC_X3p0fY2L0",
        "UV0SzAkaZNRQ",
        "YPEH6qLeZNRQ",
        "q29F0dvdveiT",
        "EXh0U9oCveiU",
        "22aHeOlLveiV",
        "JcMwzZxoAimU",
        "8G2x9gOozGDZ",
        "gCX9965dhzqZ",
        "gIfDvo9L0UH2"
      ],
      "include_colab_link": true
    },
    "kernelspec": {
      "name": "python3",
      "display_name": "Python 3"
    },
    "language_info": {
      "name": "python"
    }
  },
  "cells": [
    {
      "cell_type": "markdown",
      "metadata": {
        "id": "view-in-github",
        "colab_type": "text"
      },
      "source": [
        "<a href=\"https://colab.research.google.com/github/Suraj-thakur-97/AIRBNB-project/blob/main/Copy_of_PYTHON_EDA_AIRBNB_.ipynb\" target=\"_parent\"><img src=\"https://colab.research.google.com/assets/colab-badge.svg\" alt=\"Open In Colab\"/></a>"
      ]
    },
    {
      "cell_type": "markdown",
      "source": [
        "# **Project Name**    - AIR BNB\n",
        "\n"
      ],
      "metadata": {
        "id": "vncDsAP0Gaoa"
      }
    },
    {
      "cell_type": "markdown",
      "source": [
        "##### **Project Type**    - EDA/Regression/Classification/Unsupervised\n",
        "##### **Contribution**    - Individual/Team\n",
        "##### **Team Member 1 -** SURAJ THAKUR\n",
        "##### **Team Member 2 -** MANJEET SULEKH\n",
        "##### **Team Member 3 -**KIRTI VERMA\n",
        "##### **Team Member 4 -**"
      ],
      "metadata": {
        "id": "beRrZCGUAJYm"
      }
    },
    {
      "cell_type": "markdown",
      "source": [
        "# **Project Summary -**"
      ],
      "metadata": {
        "id": "FJNUwmbgGyua"
      }
    },
    {
      "cell_type": "markdown",
      "source": [
        "Write the summary here within 500-600 words.\n",
        "\n",
        "Since 2008,guest and host have used AIRBNB to expand on travelling possibilities and present a more unique,personalisng way of exploring a world.Today,AIRBNB one of a kind service that is used and recognize by the whole world. Data analysis on millions of listings provided through AIRBNB is a crucial factor for the company.These millions of listings generate a lot of data - data that can be used and analysed and used for security,business decision,understanding of customers'and providers(host) behaviour and performance on the platform,guiding marketing initiatives,implemention of innovative additional services and much more.This dataset has around 49000 observation in it with 16 coloumns and it is a mix of categorical and numeric values"
      ],
      "metadata": {
        "id": "F6v_1wHtG2nS"
      }
    },
    {
      "cell_type": "markdown",
      "source": [
        "# **GitHub Link -**"
      ],
      "metadata": {
        "id": "w6K7xa23Elo4"
      }
    },
    {
      "cell_type": "markdown",
      "source": [
        "Provide your GitHub Link here.\n",
        "\n",
        "https://github.com/Suraj-thakur-97/AIRBNB-project/tree/main\n"
      ],
      "metadata": {
        "id": "h1o69JH3Eqqn"
      }
    },
    {
      "cell_type": "markdown",
      "source": [
        "# **Problem Statement**\n"
      ],
      "metadata": {
        "id": "yQaldy8SH6Dl"
      }
    },
    {
      "cell_type": "markdown",
      "source": [
        "**Write Problem Statement Here.**\n",
        "\n",
        "Lets Explore and analyze the Data Set and find some insights(Few Questions Listed Below)\n",
        "\n",
        "1.What can we learn about different hosts and areas?\n",
        "\n",
        "2.What we learn from room type and their prices according to area?\n",
        "\n",
        "3.What can we learn from Data? (ex: locations, prices, reviews, etc)\n",
        "\n",
        "4.Which hosts are the busiest and why is the reason?\n",
        "\n",
        "5.Which Hosts are charging higher price?\n",
        "\n",
        "6.Is there any traffic difference among different areas and what could be the reason for it?\n",
        "\n",
        "7.What is the correlation between different variables ?\n",
        "\n",
        "8.What is the room count in overall NYC according to the listing of room types?"
      ],
      "metadata": {
        "id": "DpeJGUA3kjGy"
      }
    },
    {
      "cell_type": "markdown",
      "source": [
        "#### **Define Your Business Objective?**"
      ],
      "metadata": {
        "id": "PH-0ReGfmX4f"
      }
    },
    {
      "cell_type": "markdown",
      "source": [
        "Answer Here.\n",
        "\n",
        "Firstly, The business objective is to enhance to quality of the room and room services as per the price and location of the room. Secondly, customer satisfaction by providing the best possible experience to them. Lastly, to bring traffic/customer so that the revenue of the business will enhance which will be possible only by providing the best services on the budget friendly prices."
      ],
      "metadata": {
        "id": "PhDvGCAqmjP1"
      }
    },
    {
      "cell_type": "markdown",
      "source": [
        "# **General Guidelines** : -  "
      ],
      "metadata": {
        "id": "mDgbUHAGgjLW"
      }
    },
    {
      "cell_type": "markdown",
      "source": [
        "1.   Well-structured, formatted, and commented code is required.\n",
        "2.   Exception Handling, Production Grade Code & Deployment Ready Code will be a plus. Those students will be awarded some additional credits.\n",
        "     \n",
        "     The additional credits will have advantages over other students during Star Student selection.\n",
        "       \n",
        "             [ Note: - Deployment Ready Code is defined as, the whole .ipynb notebook should be executable in one go\n",
        "                       without a single error logged. ]\n",
        "\n",
        "3.   Each and every logic should have proper comments.\n",
        "4. You may add as many number of charts you want. Make Sure for each and every chart the following format should be answered.\n",
        "        \n",
        "\n",
        "```\n",
        "# Chart visualization code\n",
        "```\n",
        "            \n",
        "\n",
        "*   Why did you pick the specific chart?\n",
        "*   What is/are the insight(s) found from the chart?\n",
        "* Will the gained insights help creating a positive business impact?\n",
        "Are there any insights that lead to negative growth? Justify with specific reason.\n",
        "\n",
        "5. You have to create at least 20 logical & meaningful charts having important insights.\n",
        "\n",
        "\n",
        "[ Hints : - Do the Vizualization in  a structured way while following \"UBM\" Rule.\n",
        "\n",
        "U - Univariate Analysis,\n",
        "\n",
        "B - Bivariate Analysis (Numerical - Categorical, Numerical - Numerical, Categorical - Categorical)\n",
        "\n",
        "M - Multivariate Analysis\n",
        " ]\n",
        "\n",
        "\n",
        "\n"
      ],
      "metadata": {
        "id": "ZrxVaUj-hHfC"
      }
    },
    {
      "cell_type": "markdown",
      "source": [
        "# ***Let's Begin !***"
      ],
      "metadata": {
        "id": "O_i_v8NEhb9l"
      }
    },
    {
      "cell_type": "markdown",
      "source": [
        "## ***1. Know Your Data***"
      ],
      "metadata": {
        "id": "HhfV-JJviCcP"
      }
    },
    {
      "cell_type": "markdown",
      "source": [
        "### Import Libraries"
      ],
      "metadata": {
        "id": "Y3lxredqlCYt"
      }
    },
    {
      "cell_type": "code",
      "source": [
        "# mount collab with drive\n",
        "from google.colab import drive\n",
        "drive.mount('/content/drive')\n",
        "#import libraries for EDA and visualization\n",
        "import pandas as pd\n",
        "import numpy as np\n",
        "from datetime import datetime\n",
        "import matplotlib.pyplot as plt\n",
        "%matplotlib inline\n",
        "import seaborn as sns"
      ],
      "metadata": {
        "id": "htfQjigZP_Lq"
      },
      "execution_count": null,
      "outputs": []
    },
    {
      "cell_type": "markdown",
      "source": [
        "### Dataset Loading"
      ],
      "metadata": {
        "id": "3RnN4peoiCZX"
      }
    },
    {
      "cell_type": "code",
      "source": [
        "from google.colab import drive\n",
        "drive.mount('/content/drive')"
      ],
      "metadata": {
        "id": "Fm1wwNfxTw41"
      },
      "execution_count": null,
      "outputs": []
    },
    {
      "cell_type": "code",
      "source": [
        "# Load Dataset\n",
        "data =\"/content/drive/MyDrive/Colab Notebooks/Copy of Airbnb NYC 2019.csv\"\n",
        "\n"
      ],
      "metadata": {
        "id": "4CkvbW_SlZ_R"
      },
      "execution_count": null,
      "outputs": []
    },
    {
      "cell_type": "code",
      "source": [
        "airbnb = pd.read_csv(data)"
      ],
      "metadata": {
        "id": "-1jSncceUdyo"
      },
      "execution_count": null,
      "outputs": []
    },
    {
      "cell_type": "markdown",
      "source": [
        "### Dataset First View"
      ],
      "metadata": {
        "id": "x71ZqKXriCWQ"
      }
    },
    {
      "cell_type": "code",
      "source": [
        "# Dataset First Look\n",
        "airbnb.head(5)\n",
        "\n"
      ],
      "metadata": {
        "id": "LWNFOSvLl09H"
      },
      "execution_count": null,
      "outputs": []
    },
    {
      "cell_type": "markdown",
      "source": [
        "# Necessary column"
      ],
      "metadata": {
        "id": "h5ppJDZDZh-T"
      }
    },
    {
      "cell_type": "code",
      "source": [
        "new_df = airbnb[['id','name','host_id','neighbourhood_group','room_type','price','minimum_nights','number_of_reviews','calculated_host_listings_count','availability_365']]\n",
        "new_df.head(10)"
      ],
      "metadata": {
        "id": "8NHNDA-HZnQi"
      },
      "execution_count": null,
      "outputs": []
    },
    {
      "cell_type": "markdown",
      "source": [
        "### Dataset Rows & Columns count"
      ],
      "metadata": {
        "id": "7hBIi_osiCS2"
      }
    },
    {
      "cell_type": "code",
      "source": [
        "# Dataset Rows & Columns count\n",
        "print(airbnb.index)\n",
        "print('\\n')\n",
        "print(airbnb.columns)"
      ],
      "metadata": {
        "id": "Kllu7SJgmLij"
      },
      "execution_count": null,
      "outputs": []
    },
    {
      "cell_type": "markdown",
      "source": [
        "### Dataset Information"
      ],
      "metadata": {
        "id": "JlHwYmJAmNHm"
      }
    },
    {
      "cell_type": "code",
      "source": [
        "# Dataset Info\n",
        "airbnb.info()"
      ],
      "metadata": {
        "id": "e9hRXRi6meOf"
      },
      "execution_count": null,
      "outputs": []
    },
    {
      "cell_type": "markdown",
      "source": [
        "# Dataset Shape\n",
        "\n"
      ],
      "metadata": {
        "id": "-KLilSleRqKZ"
      }
    },
    {
      "cell_type": "code",
      "source": [
        "airbnb.shape"
      ],
      "metadata": {
        "id": "9Yy78iToR5EG"
      },
      "execution_count": null,
      "outputs": []
    },
    {
      "cell_type": "markdown",
      "source": [
        "#### Duplicate Values\n"
      ],
      "metadata": {
        "id": "35m5QtbWiB9F"
      }
    },
    {
      "cell_type": "code",
      "source": [
        "#Dataset duplicates value count\n",
        "duplicate_count = airbnb.duplicated().sum()\n",
        "print(duplicate_count)"
      ],
      "metadata": {
        "id": "NvszzT5n5ucM"
      },
      "execution_count": null,
      "outputs": []
    },
    {
      "cell_type": "markdown",
      "source": [
        "#### Missing Values/Null Values"
      ],
      "metadata": {
        "id": "PoPl-ycgm1ru"
      }
    },
    {
      "cell_type": "code",
      "source": [
        "# Missing Values/Null Values Count\n",
        "missing_values = airbnb.isnull()\n",
        "missing_values\n",
        "\n"
      ],
      "metadata": {
        "id": "GgHWkxvamxVg"
      },
      "execution_count": null,
      "outputs": []
    },
    {
      "cell_type": "code",
      "source": [
        "pd.notnull(airbnb['reviews_per_month'\t])"
      ],
      "metadata": {
        "id": "bF2BiYkcYlpd"
      },
      "execution_count": null,
      "outputs": []
    },
    {
      "cell_type": "code",
      "source": [
        "# Visualizing the missing values\n",
        "missing_count = airbnb.isnull().sum().sort_values(ascending=False)\n",
        "print(missing_count)\n",
        "print('\\n')\n",
        "missing_count[:4]\n"
      ],
      "metadata": {
        "id": "3q5wnI3om9sJ"
      },
      "execution_count": null,
      "outputs": []
    },
    {
      "cell_type": "markdown",
      "source": [
        "### What did you know about your dataset?\n",
        "\n",
        "\n",
        "\n",
        "\n",
        "\n",
        "\n",
        "\n",
        "\n",
        "\n"
      ],
      "metadata": {
        "id": "H0kj-8xxnORC"
      }
    },
    {
      "cell_type": "markdown",
      "source": [
        "Answer Here\n",
        "\n",
        "\n",
        "There in this csv file we have observed that their is 16 columns and 48895 rows the columnns are-\n",
        "\n",
        " 0   id                                \n",
        " 1   name                             \n",
        " 2   host_id                           \n",
        " 3   host_name                       \n",
        " 4   neighbourhood_group             \n",
        " 5   neighbourhood                  \n",
        " 6   latitude                        \n",
        " 7   longitude                    \n",
        " 8   room_type                      \n",
        " 9   price                            \n",
        " 10  minimum_nights                  \n",
        " 11  number_of_reviews               \n",
        " 12  last_review                     \n",
        " 13  reviews_per_month               \n",
        " 14  calculated_host_listings_count   \n",
        " 15  availability_365            \n",
        "\n",
        "\n",
        " Here we observed that there is 'zero' duplicate value, and the missing values we found on different columns are as follow:-\n",
        "last_review-         10052,\n",
        "reviews_per_month    10052,\n",
        "host_name               21and\n",
        "name                    16\n"
      ],
      "metadata": {
        "id": "gfoNAAC-nUe_"
      }
    },
    {
      "cell_type": "markdown",
      "source": [
        "## ***2. Understanding Your Variables***"
      ],
      "metadata": {
        "id": "nA9Y7ga8ng1Z"
      }
    },
    {
      "cell_type": "code",
      "source": [
        "# Dataset Columns\n",
        "column = airbnb.columns\n",
        "print(column)"
      ],
      "metadata": {
        "id": "j7xfkqrt5Ag5"
      },
      "execution_count": null,
      "outputs": []
    },
    {
      "cell_type": "code",
      "source": [
        "# Dataset Describe\n",
        "airbnb.describe()"
      ],
      "metadata": {
        "id": "DnOaZdaE5Q5t"
      },
      "execution_count": null,
      "outputs": []
    },
    {
      "cell_type": "markdown",
      "source": [
        "### Variables Description"
      ],
      "metadata": {
        "id": "PBTbrJXOngz2"
      }
    },
    {
      "cell_type": "markdown",
      "source": [
        "Answer Here\n",
        "###Variable information\n",
        "There are 16 columns in datasets such as\n",
        "\n",
        " 1.id:-unique id                            \n",
        " 2.name:-Name of the listing                          \n",
        " 3.host_id:-unique host id                      \n",
        " 4.host_name:-Name of the host                   \n",
        " 5.neighbourhood_group:-location          \n",
        " 6.neighbourhood:-Area                 \n",
        " 7.latitude:-latitude range                     \n",
        " 8.longitude:-longitude range        \n",
        " 9.room_type:-Type of listing         \n",
        " 10.price:-Price of listing                          \n",
        " 11.minimum_nights:-minimum_nights to be paid for             \n",
        " 12.number_of_reviews:-Number of reviews            \n",
        " 13.last_review:-content of the last review    \n",
        " 14.reviews_per_month:-Number of checks per month\n",
        " 15.calculated_host_listings_count:-Total counts    \n",
        " 16.availability_365:-Avaiability around the year      \n",
        "\n"
      ],
      "metadata": {
        "id": "aJV4KIxSnxay"
      }
    },
    {
      "cell_type": "markdown",
      "source": [
        "### Check Unique Values for each variable."
      ],
      "metadata": {
        "id": "u3PMJOP6ngxN"
      }
    },
    {
      "cell_type": "code",
      "source": [
        "# Check Unique Values for each variable.\n",
        "\n",
        "'''for column in airbnb.columns:\n",
        "    unique_values = airbnb[column].unique()\n",
        "    print(f\"Unique values for {column}:\")\n",
        "    print(unique_values)\n",
        "    print()'''\n",
        "\n",
        "unq_val = airbnb.apply(lambda col: col.unique())\n",
        "\n",
        "unq_val\n"
      ],
      "metadata": {
        "id": "zms12Yq5n-jE"
      },
      "execution_count": null,
      "outputs": []
    },
    {
      "cell_type": "markdown",
      "source": [
        "## 3. ***Data Wrangling***"
      ],
      "metadata": {
        "id": "dauF4eBmngu3"
      }
    },
    {
      "cell_type": "markdown",
      "source": [
        "### Data Wrangling Code"
      ],
      "metadata": {
        "id": "bKJF3rekwFvQ"
      }
    },
    {
      "cell_type": "code",
      "source": [
        "# Write your code to make your dataset analysis ready.\n",
        "missing_count[:4]"
      ],
      "metadata": {
        "id": "wk-9a2fpoLcV"
      },
      "execution_count": null,
      "outputs": []
    },
    {
      "cell_type": "code",
      "source": [
        "#percentage of null value in last_review\n",
        "percent_last_review_null = (missing_count[0]/len(airbnb))*100\n",
        "percent_last_review_null"
      ],
      "metadata": {
        "id": "YHbW3oOt63Xg"
      },
      "execution_count": null,
      "outputs": []
    },
    {
      "cell_type": "code",
      "source": [
        "#percentage of null value in last_review_per_mpnth\n",
        "\n",
        "percent_last_reviews_per_month_null = (missing_count[1]/len(airbnb))*100\n",
        "percent_last_reviews_per_month_null\n"
      ],
      "metadata": {
        "id": "nZ5Ejehi7UDK"
      },
      "execution_count": null,
      "outputs": []
    },
    {
      "cell_type": "code",
      "source": [
        "#percentage of null value in host_name\n",
        "\n",
        "percent_last_hostname = (missing_count[2]/len(airbnb))*100\n",
        "percent_last_hostname\n"
      ],
      "metadata": {
        "id": "umiyp5c47jOo"
      },
      "execution_count": null,
      "outputs": []
    },
    {
      "cell_type": "code",
      "source": [
        "#percentage of null value in name\n",
        "percent_name_null = (missing_count[3]/len(airbnb))*100\n",
        "percent_name_null\n"
      ],
      "metadata": {
        "id": "jtDenO5_7vr6"
      },
      "execution_count": null,
      "outputs": []
    },
    {
      "cell_type": "code",
      "source": [
        "#filled the null values\n",
        "airbnb['last_review'].fillna(method='ffill',inplace=True)  # Forward fill\n",
        "airbnb['reviews_per_month'].fillna(0.0,inplace=True)  # Forward fill\n",
        "airbnb['host_name'].fillna('unknown',inplace=True)\n",
        "airbnb['name'].fillna('unknown',inplace=True)\n"
      ],
      "metadata": {
        "id": "RigPoM9VcwZi"
      },
      "execution_count": null,
      "outputs": []
    },
    {
      "cell_type": "code",
      "source": [
        "airbnb.isnull().sum()"
      ],
      "metadata": {
        "id": "uSLi2PtZcwGh"
      },
      "execution_count": null,
      "outputs": []
    },
    {
      "cell_type": "markdown",
      "source": [],
      "metadata": {
        "id": "y1mjtC_Qapbt"
      }
    },
    {
      "cell_type": "markdown",
      "source": [
        "### What all manipulations have you done and insights you found?"
      ],
      "metadata": {
        "id": "MSa1f5Uengrz"
      }
    },
    {
      "cell_type": "markdown",
      "source": [
        "Answer Here.\n",
        "\n",
        "Check the number of columns with the null/missing value\n",
        "After that calculate the percentage of the null value in each column\n",
        "And than filled the missing value in each column."
      ],
      "metadata": {
        "id": "LbyXE7I1olp8"
      }
    },
    {
      "cell_type": "markdown",
      "source": [
        "## ***4. Data Vizualization, Storytelling & Experimenting with charts : Understand the relationships between variables***"
      ],
      "metadata": {
        "id": "GF8Ens_Soomf"
      }
    },
    {
      "cell_type": "markdown",
      "source": [
        "#### Chart - 1     \n",
        "\n"
      ],
      "metadata": {
        "id": "0wOQAZs5pc--"
      }
    },
    {
      "cell_type": "markdown",
      "source": [
        "Through this chart we visualize rooms according to thier types.\n",
        "\n",
        "'Private room',   'Entire home / apt',   'Shared room'"
      ],
      "metadata": {
        "id": "4Aa8hNTOsav9"
      }
    },
    {
      "cell_type": "code",
      "source": [
        "# Chart - 1 visualization code\n",
        "# Through this visualization we found the different types of room  according to their type\n",
        "print(airbnb.room_type.unique())\n",
        "print('\\n')\n",
        "\n",
        "room_typ=airbnb.room_type.value_counts()\n",
        "print(room_typ)\n",
        "print('\\n')\n",
        "\n",
        "airbnb['room_type'].value_counts().plot(kind='bar',color=['pink','magenta','green'])"
      ],
      "metadata": {
        "id": "7v_ESjsspbW7"
      },
      "execution_count": null,
      "outputs": []
    },
    {
      "cell_type": "markdown",
      "source": [
        "##### 1. Why did you pick the specific chart?\n"
      ],
      "metadata": {
        "id": "K5QZ13OEpz2H"
      }
    },
    {
      "cell_type": "markdown",
      "source": [
        "Answer Here.\n",
        "\n",
        "We used Bar chart here to compare the different types of room according to the preference of customers."
      ],
      "metadata": {
        "id": "XESiWehPqBRc"
      }
    },
    {
      "cell_type": "markdown",
      "source": [
        "##### 2. What is/are the insight(s) found from the chart?"
      ],
      "metadata": {
        "id": "lQ7QKXXCp7Bj"
      }
    },
    {
      "cell_type": "markdown",
      "source": [
        "Answer Here\n",
        "\n",
        "We found that **\"Entire home/ Apt\"** is the most preferred room followed by **\"Private room\"** and the least preferred room is **\"Shared room\"**."
      ],
      "metadata": {
        "id": "C_j1G7yiqdRP"
      }
    },
    {
      "cell_type": "markdown",
      "source": [
        "##### 3. Will the gained insights help creating a positive business impact?\n",
        "Are there any insights that lead to negative growth? Justify with specific reason."
      ],
      "metadata": {
        "id": "448CDAPjqfQr"
      }
    },
    {
      "cell_type": "markdown",
      "source": [
        "Answer Here\n",
        "\n",
        "Yes, the insights will help in building the business idea for the host with the **shared room** as they will get to know that there is much needed improvement need to be done with their room so that the people will prefer them more"
      ],
      "metadata": {
        "id": "3cspy4FjqxJW"
      }
    },
    {
      "cell_type": "markdown",
      "source": [
        "#### Chart - 2"
      ],
      "metadata": {
        "id": "KSlN3yHqYklG"
      }
    },
    {
      "cell_type": "markdown",
      "source": [
        "This visualization helps to know the area of **neighbourhood group**"
      ],
      "metadata": {
        "id": "OOHkcl_21fcp"
      }
    },
    {
      "cell_type": "code",
      "source": [
        "# Chart - 2 visualization code\n",
        "neigh_unq=airbnb.neighbourhood_group.unique()\n",
        "print(neigh_unq)\n",
        "print('\\n')\n",
        "\n",
        "sns.scatterplot(x=airbnb.latitude,y=airbnb.longitude,hue=airbnb.neighbourhood_group)\n",
        "plt.figure(figsize=(10,8))\n",
        "plt.show()\n"
      ],
      "metadata": {
        "id": "R4YgtaqtYklH"
      },
      "execution_count": null,
      "outputs": []
    },
    {
      "cell_type": "markdown",
      "source": [
        "##### 1. Why did you pick the specific chart?"
      ],
      "metadata": {
        "id": "t6dVpIINYklI"
      }
    },
    {
      "cell_type": "markdown",
      "source": [
        "\n",
        "Answer Here.\n",
        "\n",
        "We pick this chart because scatter plot helps to show the distribution clearly."
      ],
      "metadata": {
        "id": "5aaW0BYyYklI"
      }
    },
    {
      "cell_type": "markdown",
      "source": [
        "##### 2. What is/are the insight(s) found from the chart?"
      ],
      "metadata": {
        "id": "ijmpgYnKYklI"
      }
    },
    {
      "cell_type": "markdown",
      "source": [
        "Answer Here\n",
        "\n",
        "The insights we found is that the distribution of *neighbourhood* *group* (**Brooklyn,Manhattan,Queens,Staten island** and **Bronx**)according to their frequency"
      ],
      "metadata": {
        "id": "PSx9atu2YklI"
      }
    },
    {
      "cell_type": "markdown",
      "source": [
        "##### 3. Will the gained insights help creating a positive business impact?\n",
        "Are there any insights that lead to negative growth? Justify with specific reason."
      ],
      "metadata": {
        "id": "-JiQyfWJYklI"
      }
    },
    {
      "cell_type": "markdown",
      "source": [
        "Answer Here\n",
        "\n",
        "Yes, the insight we got from this visualization will help the host to recognise the place where he can open his new branch for expanding his/her business."
      ],
      "metadata": {
        "id": "BcBbebzrYklV"
      }
    },
    {
      "cell_type": "markdown",
      "source": [
        "## Chart - 3"
      ],
      "metadata": {
        "id": "YdfDvmkwqee3"
      }
    },
    {
      "cell_type": "markdown",
      "source": [
        "####  Through this chart we found that the Number of each type of room in top 10 different place of the two state Manhattan and Brooklyn"
      ],
      "metadata": {
        "id": "EM7whBJCYoAo"
      }
    },
    {
      "cell_type": "code",
      "source": [
        "# Chart - 3 visualization code\n",
        "neigh = airbnb.neighbourhood.value_counts().head(10)\n",
        "print(neigh)\n",
        "print('\\n')\n",
        "\n",
        "sub=airbnb.loc[airbnb['neighbourhood'].isin(['Williamsburg','Bedford-Stuyvesant','Harlem','Bushwick',\n",
        "                 'Upper West Side','Hell\\'s Kitchen','East Village','Upper East Side','Crown Heights','Midtown'])]\n",
        "\n",
        "viz=sns.catplot(x='neighbourhood', hue='neighbourhood_group', col='room_type', data=sub, kind='count')\n",
        "viz.set_xticklabels(rotation=70)"
      ],
      "metadata": {
        "id": "t6GMdE67YoAp"
      },
      "execution_count": null,
      "outputs": []
    },
    {
      "cell_type": "markdown",
      "source": [
        "##### 1. Why did you pick the specific chart?"
      ],
      "metadata": {
        "id": "fge-S5ZAYoAp"
      }
    },
    {
      "cell_type": "markdown",
      "source": [
        "Answer Here.\n",
        "\n",
        "It is easy to represent the several number of data in this chart."
      ],
      "metadata": {
        "id": "5dBItgRVYoAp"
      }
    },
    {
      "cell_type": "markdown",
      "source": [
        "##### 2. What is/are the insight(s) found from the chart?"
      ],
      "metadata": {
        "id": "85gYPyotYoAp"
      }
    },
    {
      "cell_type": "markdown",
      "source": [
        "Answer Here\n",
        "\n",
        "The insight we found, it is clearly seen that the top 10 place of Manhattan and Broklyn where the number of or type of room is preferred."
      ],
      "metadata": {
        "id": "4jstXR6OYoAp"
      }
    },
    {
      "cell_type": "markdown",
      "source": [
        "##### 3. Will the gained insights help creating a positive business impact?\n",
        "Are there any insights that lead to negative growth? Justify with specific reason."
      ],
      "metadata": {
        "id": "RoGjAbkUYoAp"
      }
    },
    {
      "cell_type": "markdown",
      "source": [
        "Answer Here\n",
        "\n",
        "As per the chart it is very useful to use this data to know the preference of the people(for the room type) of the place they belong."
      ],
      "metadata": {
        "id": "zfJ8IqMcYoAp"
      }
    },
    {
      "cell_type": "markdown",
      "source": [
        "#### Chart - 4"
      ],
      "metadata": {
        "id": "4Of9eVA-YrdM"
      }
    },
    {
      "cell_type": "markdown",
      "source": [
        "Here we are going to find the top 10 Host"
      ],
      "metadata": {
        "id": "tdIjgbw4ub7d"
      }
    },
    {
      "cell_type": "code",
      "source": [
        "# Chart - 4 visualization code\n",
        "\n",
        "top_host=airbnb.host_id.value_counts().head(10)\n",
        "print(top_host)\n",
        "print('\\n')\n",
        "top_host_check=airbnb.calculated_host_listings_count.max()\n",
        "print(top_host_check)\n",
        "\n",
        "top_host_df=pd.DataFrame(top_host)\n",
        "top_host_df.reset_index(inplace=True)\n",
        "top_host_df.rename(columns={'index':'Host_ID', 'host_id':'P_Count'}, inplace=True)\n",
        "print(top_host_df)\n",
        "\n",
        "viz_1=sns.barplot(x=\"Host_ID\", y=\"P_Count\", data=top_host_df)\n",
        "viz_1.set_title('Hosts with the most listings in NYC')\n",
        "viz_1.set_ylabel('Count of listings')\n",
        "viz_1.set_xlabel('Host IDs')\n",
        "viz_1.set_xticklabels(viz_1.get_xticklabels(), rotation=90)"
      ],
      "metadata": {
        "id": "irlUoxc8YrdO"
      },
      "execution_count": null,
      "outputs": []
    },
    {
      "cell_type": "markdown",
      "source": [
        "##### 1. Why did you pick the specific chart?"
      ],
      "metadata": {
        "id": "iky9q4vBYrdO"
      }
    },
    {
      "cell_type": "markdown",
      "source": [
        "Answer Here.\n",
        "\n",
        " Here we choose this bar graph to represent the data so that it will be easy to understand to anyone."
      ],
      "metadata": {
        "id": "aJRCwT6DYrdO"
      }
    },
    {
      "cell_type": "markdown",
      "source": [
        "##### 2. What is/are the insight(s) found from the chart?"
      ],
      "metadata": {
        "id": "F6T5p64dYrdO"
      }
    },
    {
      "cell_type": "markdown",
      "source": [
        "Answer Here\n",
        "\n",
        "The insight we got here is the number of top 10 host in the NewYork city for the AirBnb"
      ],
      "metadata": {
        "id": "Xx8WAJvtYrdO"
      }
    },
    {
      "cell_type": "markdown",
      "source": [
        "##### 3. Will the gained insights help creating a positive business impact?\n",
        "Are there any insights that lead to negative growth? Justify with specific reason."
      ],
      "metadata": {
        "id": "y-Ehk30pYrdP"
      }
    },
    {
      "cell_type": "markdown",
      "source": [
        "Answer Here\n",
        "\n",
        "Yes, this insight of the host can be useful from the perspective of the business in ascessing the competitor."
      ],
      "metadata": {
        "id": "jLNxxz7MYrdP"
      }
    },
    {
      "cell_type": "markdown",
      "source": [
        "#### Chart - 5"
      ],
      "metadata": {
        "id": "bamQiAODYuh1"
      }
    },
    {
      "cell_type": "markdown",
      "source": [
        "Here we will get to know about the neighbourhood group."
      ],
      "metadata": {
        "id": "2nwr26Kawa7q"
      }
    },
    {
      "cell_type": "code",
      "source": [
        "# Chart - 5 visualization code\n",
        "\n",
        "airbnb['neighbourhood_group'].value_counts().plot(kind='bar',color=['b','g','y','m','r'])\n",
        "plt.show()"
      ],
      "metadata": {
        "id": "TIJwrbroYuh3"
      },
      "execution_count": null,
      "outputs": []
    },
    {
      "cell_type": "markdown",
      "source": [
        "##### 1. Why did you pick the specific chart?"
      ],
      "metadata": {
        "id": "QHF8YVU7Yuh3"
      }
    },
    {
      "cell_type": "markdown",
      "source": [
        "Answer Here.\n",
        "\n",
        "We pick this chart to visualize the neighbourhood group according to their count in decreasing order."
      ],
      "metadata": {
        "id": "dcxuIMRPYuh3"
      }
    },
    {
      "cell_type": "markdown",
      "source": [
        "##### 2. What is/are the insight(s) found from the chart?"
      ],
      "metadata": {
        "id": "GwzvFGzlYuh3"
      }
    },
    {
      "cell_type": "markdown",
      "source": [
        "Answer Here\n",
        "\n",
        "The insight we got here is that the \"**Manhattan**\" and \"**Brooklyn**\" have the majority of the number of customer and host."
      ],
      "metadata": {
        "id": "uyqkiB8YYuh3"
      }
    },
    {
      "cell_type": "markdown",
      "source": [
        "##### 3. Will the gained insights help creating a positive business impact?\n",
        "Are there any insights that lead to negative growth? Justify with specific reason."
      ],
      "metadata": {
        "id": "qYpmQ266Yuh3"
      }
    },
    {
      "cell_type": "markdown",
      "source": [
        "Answer Here\n",
        "\n",
        "Yes, The insight will help the business to identify the place where the customer visit the most."
      ],
      "metadata": {
        "id": "_WtzZ_hCYuh4"
      }
    },
    {
      "cell_type": "markdown",
      "source": [
        "#### Chart - 6"
      ],
      "metadata": {
        "id": "OH-pJp9IphqM"
      }
    },
    {
      "cell_type": "markdown",
      "source": [
        "Here we will try to find out the **range of price** with the help of box plot."
      ],
      "metadata": {
        "id": "eVpMz-OZ5w4i"
      }
    },
    {
      "cell_type": "code",
      "source": [
        "# Chart - 6 visualization code\n",
        "sns.boxenplot(x='price',data=airbnb)\n"
      ],
      "metadata": {
        "id": "kuRf4wtuphqN"
      },
      "execution_count": null,
      "outputs": []
    },
    {
      "cell_type": "markdown",
      "source": [
        "##### 1. Why did you pick the specific chart?"
      ],
      "metadata": {
        "id": "bbFf2-_FphqN"
      }
    },
    {
      "cell_type": "markdown",
      "source": [
        "Answer Here.\n",
        "\n",
        "This chart is very simple to get the knowledge of the **price range**."
      ],
      "metadata": {
        "id": "loh7H2nzphqN"
      }
    },
    {
      "cell_type": "markdown",
      "source": [
        "##### 2. What is/are the insight(s) found from the chart?"
      ],
      "metadata": {
        "id": "_ouA3fa0phqN"
      }
    },
    {
      "cell_type": "markdown",
      "source": [
        "Answer Here\n",
        "\n",
        "The insight we got here is the range of the price for the room which lies maximum below 2000 whereas some room also have price upto 10000"
      ],
      "metadata": {
        "id": "VECbqPI7phqN"
      }
    },
    {
      "cell_type": "markdown",
      "source": [
        "##### 3. Will the gained insights help creating a positive business impact?\n",
        "Are there any insights that lead to negative growth? Justify with specific reason."
      ],
      "metadata": {
        "id": "Seke61FWphqN"
      }
    },
    {
      "cell_type": "markdown",
      "source": [
        "Answer Here\n",
        "\n",
        "This insight will help to identify the price range under which customer are more likely to afford."
      ],
      "metadata": {
        "id": "DW4_bGpfphqN"
      }
    },
    {
      "cell_type": "markdown",
      "source": [
        "#### Chart - 7"
      ],
      "metadata": {
        "id": "PIIx-8_IphqN"
      }
    },
    {
      "cell_type": "markdown",
      "source": [
        "Through this chart lets find out the avaiability of the room according to the price range."
      ],
      "metadata": {
        "id": "TeRMZjl2-7TN"
      }
    },
    {
      "cell_type": "code",
      "source": [
        "# Chart - 7 visualization code\n",
        "sns.scatterplot(y=airbnb['price'],x=airbnb['availability_365'])\n"
      ],
      "metadata": {
        "id": "lqAIGUfyphqO"
      },
      "execution_count": null,
      "outputs": []
    },
    {
      "cell_type": "markdown",
      "source": [
        "##### 1. Why did you pick the specific chart?"
      ],
      "metadata": {
        "id": "t27r6nlMphqO"
      }
    },
    {
      "cell_type": "markdown",
      "source": [
        "Answer Here.\n",
        "\n",
        "A scatter plot are an essential type of data visualization that shows relationships between varibles."
      ],
      "metadata": {
        "id": "iv6ro40sphqO"
      }
    },
    {
      "cell_type": "markdown",
      "source": [
        "##### 2. What is/are the insight(s) found from the chart?"
      ],
      "metadata": {
        "id": "r2jJGEOYphqO"
      }
    },
    {
      "cell_type": "markdown",
      "source": [
        "Answer Here\n",
        "\n",
        "Through this visualization we found that the availability of room according to their price range."
      ],
      "metadata": {
        "id": "Po6ZPi4hphqO"
      }
    },
    {
      "cell_type": "markdown",
      "source": [
        "##### 3. Will the gained insights help creating a positive business impact?\n",
        "Are there any insights that lead to negative growth? Justify with specific reason."
      ],
      "metadata": {
        "id": "b0JNsNcRphqO"
      }
    },
    {
      "cell_type": "markdown",
      "source": [
        "Answer Here\n",
        "\n",
        "yes, this help the business to identify the price range which is the most affordable by the customer."
      ],
      "metadata": {
        "id": "xvSq8iUTphqO"
      }
    },
    {
      "cell_type": "markdown",
      "source": [
        "#### Chart - 8"
      ],
      "metadata": {
        "id": "BZR9WyysphqO"
      }
    },
    {
      "cell_type": "markdown",
      "source": [
        "Here lets find the average price of the different room type."
      ],
      "metadata": {
        "id": "u9W6K1zxBpoL"
      }
    },
    {
      "cell_type": "code",
      "source": [
        "# Chart - 8 visualization code\n",
        "airbnb.head()\n",
        "\n",
        "plt.figure(figsize=(12,8))\n",
        "df = airbnb[airbnb['minimum_nights']==1]\n",
        "df1 = df.groupby(['room_type','neighbourhood_group'])['price'].mean().sort_values(ascending=True)\n",
        "df1.plot(kind='bar')\n",
        "plt.title('Average Price for rooms in neighbourhood group')\n",
        "plt.ylabel('Average Daily Price')\n",
        "plt.xlabel('Neighbourhood Group')\n",
        "plt.show()\n",
        "print('List of Average Price per night based on the neighbourhood group')\n",
        "pd.DataFrame(df1).sort_values(by='room_type')"
      ],
      "metadata": {
        "id": "TdPTWpAVphqO"
      },
      "execution_count": null,
      "outputs": []
    },
    {
      "cell_type": "markdown",
      "source": [
        "##### 1. Why did you pick the specific chart?"
      ],
      "metadata": {
        "id": "jj7wYXLtphqO"
      }
    },
    {
      "cell_type": "markdown",
      "source": [
        "Answer Here.\n",
        "\n",
        "We pick this chart as it is simple to understand the data,it is so simple to compare the data columns here with each other."
      ],
      "metadata": {
        "id": "Ob8u6rCTphqO"
      }
    },
    {
      "cell_type": "markdown",
      "source": [
        "##### 2. What is/are the insight(s) found from the chart?"
      ],
      "metadata": {
        "id": "eZrbJ2SmphqO"
      }
    },
    {
      "cell_type": "markdown",
      "source": [
        "Answer Here\n",
        "\n",
        "The insights we got here is the average price of *each type of room* in each *neighbourhood*"
      ],
      "metadata": {
        "id": "mZtgC_hjphqO"
      }
    },
    {
      "cell_type": "markdown",
      "source": [
        "##### 3. Will the gained insights help creating a positive business impact?\n",
        "Are there any insights that lead to negative growth? Justify with specific reason."
      ],
      "metadata": {
        "id": "rFu4xreNphqO"
      }
    },
    {
      "cell_type": "markdown",
      "source": [
        "Answer Here\n",
        "\n",
        "This insight will help the business to find the type of room preferred by the customer and their average price."
      ],
      "metadata": {
        "id": "ey_0qi68phqO"
      }
    },
    {
      "cell_type": "markdown",
      "source": [
        "#### Chart - 9"
      ],
      "metadata": {
        "id": "YJ55k-q6phqO"
      }
    },
    {
      "cell_type": "markdown",
      "source": [
        "Here we show the outliers in the important columns"
      ],
      "metadata": {
        "id": "I0F9cW4W4xkV"
      }
    },
    {
      "cell_type": "code",
      "source": [
        "# Chart - 9 visualization code\n",
        "airbnb.hist(figsize=(10,10))\n",
        "plt.show"
      ],
      "metadata": {
        "id": "B2aS4O1ophqO"
      },
      "execution_count": null,
      "outputs": []
    },
    {
      "cell_type": "markdown",
      "source": [
        "##### 1. Why did you pick the specific chart?"
      ],
      "metadata": {
        "id": "gCFgpxoyphqP"
      }
    },
    {
      "cell_type": "markdown",
      "source": [
        "Answer Here.\n",
        "\n",
        "This histogram gives the idea of the outliers present in the columns"
      ],
      "metadata": {
        "id": "TVxDimi2phqP"
      }
    },
    {
      "cell_type": "markdown",
      "source": [
        "##### 2. What is/are the insight(s) found from the chart?"
      ],
      "metadata": {
        "id": "OVtJsKN_phqQ"
      }
    },
    {
      "cell_type": "markdown",
      "source": [
        "Answer Here\n",
        "\n",
        "The chart gives the information about the outliers of the columns"
      ],
      "metadata": {
        "id": "ngGi97qjphqQ"
      }
    },
    {
      "cell_type": "markdown",
      "source": [
        "##### 3. Will the gained insights help creating a positive business impact?\n",
        "Are there any insights that lead to negative growth? Justify with specific reason."
      ],
      "metadata": {
        "id": "lssrdh5qphqQ"
      }
    },
    {
      "cell_type": "markdown",
      "source": [
        "Answer Here\n",
        "\n",
        "Yes, the insight helps the business to improve the their outliers which will be very useful to run the business for the profit."
      ],
      "metadata": {
        "id": "tBpY5ekJphqQ"
      }
    },
    {
      "cell_type": "markdown",
      "source": [
        "#### Chart - 10"
      ],
      "metadata": {
        "id": "U2RJ9gkRphqQ"
      }
    },
    {
      "cell_type": "markdown",
      "source": [
        "Here we will observe the reviews provided by the people for each place."
      ],
      "metadata": {
        "id": "XyFCLhdr73WR"
      }
    },
    {
      "cell_type": "code",
      "source": [
        "# Chart - 10 visualization code\n",
        "area_reviews = airbnb.groupby(['neighbourhood_group'])['number_of_reviews'].max().reset_index()\n",
        "area_reviews"
      ],
      "metadata": {
        "id": "GM7a4YP4phqQ"
      },
      "execution_count": null,
      "outputs": []
    },
    {
      "cell_type": "code",
      "source": [
        "area = area_reviews['neighbourhood_group']\n",
        "review = area_reviews['number_of_reviews']\n",
        "fig = plt.figure(figsize =(10,5))\n",
        "\n",
        "plt.bar(area, review, color =\"blue\", width =0.5)\n",
        "plt.xlabel('Area')\n",
        "plt.ylabel('Review')\n",
        "plt.title(\"Number of Reviews in terms of area\")\n",
        "plt.show()"
      ],
      "metadata": {
        "id": "iqaq-_GBm350"
      },
      "execution_count": null,
      "outputs": []
    },
    {
      "cell_type": "code",
      "source": [],
      "metadata": {
        "id": "8ENxZm2Am1kW"
      },
      "execution_count": null,
      "outputs": []
    },
    {
      "cell_type": "markdown",
      "source": [
        "##### 1. Why did you pick the specific chart?"
      ],
      "metadata": {
        "id": "1M8mcRywphqQ"
      }
    },
    {
      "cell_type": "markdown",
      "source": [
        "Answer Here.\n",
        "\n",
        "This bar chart provides clear visualization of the data."
      ],
      "metadata": {
        "id": "8agQvks0phqQ"
      }
    },
    {
      "cell_type": "markdown",
      "source": [
        "##### 2. What is/are the insight(s) found from the chart?"
      ],
      "metadata": {
        "id": "tgIPom80phqQ"
      }
    },
    {
      "cell_type": "markdown",
      "source": [
        "Answer Here\n",
        "\n",
        "The chart provides the information of the reviews provided by the customer of each neighbourhood."
      ],
      "metadata": {
        "id": "Qp13pnNzphqQ"
      }
    },
    {
      "cell_type": "markdown",
      "source": [
        "##### 3. Will the gained insights help creating a positive business impact?\n",
        "Are there any insights that lead to negative growth? Justify with specific reason."
      ],
      "metadata": {
        "id": "JMzcOPDDphqR"
      }
    },
    {
      "cell_type": "markdown",
      "source": [
        "Answer Here\n",
        "\n",
        "Yes, the reviews provided by the customer is very important for the business entity as it creates positive or negative views on the basis of the reviews."
      ],
      "metadata": {
        "id": "R4Ka1PC2phqR"
      }
    },
    {
      "cell_type": "markdown",
      "source": [
        "#### Chart - 11"
      ],
      "metadata": {
        "id": "x-EpHcCOp1ci"
      }
    },
    {
      "cell_type": "markdown",
      "source": [
        "Lets find out the reviews provided by the customers on the basis of the room prices."
      ],
      "metadata": {
        "id": "8Uiu2Lwy_GIq"
      }
    },
    {
      "cell_type": "code",
      "source": [
        "# Chart - 11 visualization code\n",
        "price_area = airbnb.groupby(['price'])['number_of_reviews'].max().reset_index()\n",
        "price_area.head(10)\n",
        "\n",
        "price_list = price_area['price']\n",
        "review = price_area['number_of_reviews']\n",
        "fig =plt.figure(figsize =(10,5))\n",
        "\n",
        "plt.scatter(price_list, review)\n",
        "plt.xlabel('Price')\n",
        "plt.ylabel('Number of reviews')\n",
        "plt.title('Number of Reviews VS Price')\n",
        "plt.show()"
      ],
      "metadata": {
        "id": "mAQTIvtqp1cj"
      },
      "execution_count": null,
      "outputs": []
    },
    {
      "cell_type": "markdown",
      "source": [
        "##### 1. Why did you pick the specific chart?"
      ],
      "metadata": {
        "id": "X_VqEhTip1ck"
      }
    },
    {
      "cell_type": "markdown",
      "source": [
        "Answer Here.\n",
        "\n",
        "We choose this chart as it is simple to understand the reviews provided by the customer for the room prices,for the room which they have used ."
      ],
      "metadata": {
        "id": "-vsMzt_np1ck"
      }
    },
    {
      "cell_type": "markdown",
      "source": [
        "##### 2. What is/are the insight(s) found from the chart?"
      ],
      "metadata": {
        "id": "8zGJKyg5p1ck"
      }
    },
    {
      "cell_type": "markdown",
      "source": [
        "Answer Here\n",
        "\n",
        "The insights we got here is that the reviews has been provided the most for the room which are under 2000, which signify that the majority people choose room whose price is under 2000. Hence,the reviews provided for the same."
      ],
      "metadata": {
        "id": "ZYdMsrqVp1ck"
      }
    },
    {
      "cell_type": "markdown",
      "source": [
        "##### 3. Will the gained insights help creating a positive business impact?\n",
        "Are there any insights that lead to negative growth? Justify with specific reason."
      ],
      "metadata": {
        "id": "PVzmfK_Ep1ck"
      }
    },
    {
      "cell_type": "markdown",
      "source": [
        "Answer Here\n",
        "\n",
        "Yes, the insights will help the business to know about the choice of the customer i.e. majority customer like the room under 2000."
      ],
      "metadata": {
        "id": "druuKYZpp1ck"
      }
    },
    {
      "cell_type": "markdown",
      "source": [
        "#### Chart - 12"
      ],
      "metadata": {
        "id": "n3dbpmDWp1ck"
      }
    },
    {
      "cell_type": "code",
      "source": [
        "# Chart - 12 visualization code\n",
        "\n",
        "#Get the host based on availability in a year\n",
        "host_based_on_availability_df = airbnb.groupby(['host_id','host_name'],as_index=False)['availability_365'].mean().sort_values(['availability_365'],ascending = True)\n",
        "host_based_on_availability_df"
      ],
      "metadata": {
        "id": "bwevp1tKp1ck"
      },
      "execution_count": null,
      "outputs": []
    },
    {
      "cell_type": "code",
      "source": [
        "#Get the host based on number of reviews\n",
        "host_based_on_review_df = airbnb.groupby(['host_id','host_name'],as_index=False)['number_of_reviews'].sum().sort_values(['number_of_reviews'],ascending = False)\n",
        "host_based_on_review_df"
      ],
      "metadata": {
        "id": "LH941Q4rA9x_"
      },
      "execution_count": null,
      "outputs": []
    },
    {
      "cell_type": "code",
      "source": [
        "\n",
        "#Merge two dataframe based on number of reviews and availability in a year\n",
        "popular_host_df = pd.merge(host_based_on_review_df,host_based_on_availability_df,on = ['host_id','host_name']).sort_values(['availability_365','number_of_reviews'],ascending = [True,False]).rename(columns = {'number_of_reviews':'Number of reviews','availability_365':'Availability in a year'})\n",
        "\n",
        "popular_host_df"
      ],
      "metadata": {
        "id": "rUKPPQTyrk_F"
      },
      "execution_count": null,
      "outputs": []
    },
    {
      "cell_type": "code",
      "source": [
        "#Most popular top 5 host in new york\n",
        "popular_host_df.head(5)"
      ],
      "metadata": {
        "id": "nCCFTSDlB1r7"
      },
      "execution_count": null,
      "outputs": []
    },
    {
      "cell_type": "code",
      "source": [
        "#Create scatter plot based on number of reviews and availability in a year\n",
        "popular_host_df.plot.scatter(x='Number of reviews', y='Availability in a year', xlim=(100,1000),ylim=(10,380));"
      ],
      "metadata": {
        "id": "NBVxddjkB39k"
      },
      "execution_count": null,
      "outputs": []
    },
    {
      "cell_type": "markdown",
      "source": [
        "##### 1. Why did you pick the specific chart?"
      ],
      "metadata": {
        "id": "ylSl6qgtp1ck"
      }
    },
    {
      "cell_type": "markdown",
      "source": [
        "Answer Here.\n",
        "\n",
        "As the scatter plot is simple to understand the trend."
      ],
      "metadata": {
        "id": "m2xqNkiQp1ck"
      }
    },
    {
      "cell_type": "markdown",
      "source": [
        "##### 2. What is/are the insight(s) found from the chart?"
      ],
      "metadata": {
        "id": "ZWILFDl5p1ck"
      }
    },
    {
      "cell_type": "markdown",
      "source": [
        "Answer Here\n",
        "\n",
        "We got that the number of reviews has been provided for the rooms whose price is below 500."
      ],
      "metadata": {
        "id": "x-lUsV2mp1ck"
      }
    },
    {
      "cell_type": "markdown",
      "source": [
        "##### 3. Will the gained insights help creating a positive business impact?\n",
        "Are there any insights that lead to negative growth? Justify with specific reason."
      ],
      "metadata": {
        "id": "M7G43BXep1ck"
      }
    },
    {
      "cell_type": "markdown",
      "source": [
        "Answer Here\n",
        "\n",
        "Here it is seen that the people are more willing to choose those rooms which are in the range of 500."
      ],
      "metadata": {
        "id": "5wwDJXsLp1cl"
      }
    },
    {
      "cell_type": "markdown",
      "source": [
        "#### Chart - 13"
      ],
      "metadata": {
        "id": "Ag9LCva-p1cl"
      }
    },
    {
      "cell_type": "code",
      "source": [
        "# Chart - 13 visualization code\n",
        "airbnb =airbnb[airbnb['price']<500]\n",
        "plt.figure(figsize = (10,5))\n",
        "sns.violinplot(x = 'neighbourhood_group', y = 'price', data = airbnb, scale = 'count', linewidth = 0.3)"
      ],
      "metadata": {
        "id": "EUfxeq9-p1cl"
      },
      "execution_count": null,
      "outputs": []
    },
    {
      "cell_type": "markdown",
      "source": [
        "##### 1. Why did you pick the specific chart?"
      ],
      "metadata": {
        "id": "E6MkPsBcp1cl"
      }
    },
    {
      "cell_type": "markdown",
      "source": [
        "Answer Here.\n",
        "\n",
        "We pick this chart as it is feasible to check the number of rooms under some specific price range."
      ],
      "metadata": {
        "id": "V22bRsFWp1cl"
      }
    },
    {
      "cell_type": "markdown",
      "source": [
        "##### 2. What is/are the insight(s) found from the chart?"
      ],
      "metadata": {
        "id": "2cELzS2fp1cl"
      }
    },
    {
      "cell_type": "markdown",
      "source": [
        "Answer Here\n",
        "\n",
        "We found that the \"Manhattan\" has the maximum number of rooms below 300."
      ],
      "metadata": {
        "id": "ozQPc2_Ip1cl"
      }
    },
    {
      "cell_type": "markdown",
      "source": [
        "##### 3. Will the gained insights help creating a positive business impact?\n",
        "Are there any insights that lead to negative growth? Justify with specific reason."
      ],
      "metadata": {
        "id": "3MPXvC8up1cl"
      }
    },
    {
      "cell_type": "markdown",
      "source": [
        "Answer Here\n",
        "\n",
        "Yes, this insight can be used to understand the market trends of the rooms depending upon price."
      ],
      "metadata": {
        "id": "GL8l1tdLp1cl"
      }
    },
    {
      "cell_type": "markdown",
      "source": [
        "#### Chart - 14 - Correlation Heatmap"
      ],
      "metadata": {
        "id": "NC_X3p0fY2L0"
      }
    },
    {
      "cell_type": "code",
      "source": [
        "# Correlation Heatmap visualization code\n",
        "sns.heatmap(airbnb.corr(),annot=True,linewidth=2)"
      ],
      "metadata": {
        "id": "xyC9zolEZNRQ"
      },
      "execution_count": null,
      "outputs": []
    },
    {
      "cell_type": "markdown",
      "source": [
        "##### 1. Why did you pick the specific chart?"
      ],
      "metadata": {
        "id": "UV0SzAkaZNRQ"
      }
    },
    {
      "cell_type": "markdown",
      "source": [
        "Answer Here.\n",
        "\n",
        "The heatmap display the correlation between multiple variables as a color coded matrix which shows us how closely related variables are."
      ],
      "metadata": {
        "id": "DVPuT8LYZNRQ"
      }
    },
    {
      "cell_type": "markdown",
      "source": [
        "##### 2. What is/are the insight(s) found from the chart?"
      ],
      "metadata": {
        "id": "YPEH6qLeZNRQ"
      }
    },
    {
      "cell_type": "markdown",
      "source": [
        "Answer Here\n",
        "\n",
        "We have seen the correlation between different variables."
      ],
      "metadata": {
        "id": "bfSqtnDqZNRR"
      }
    },
    {
      "cell_type": "markdown",
      "source": [
        "#### Chart - 15 - Pair Plot"
      ],
      "metadata": {
        "id": "q29F0dvdveiT"
      }
    },
    {
      "cell_type": "code",
      "source": [
        "# Pair Plot visualization code\n",
        "\n",
        "\n",
        "import matplotlib.pyplot as plt\n",
        "plt.show()\n",
        "sns.pairplot(airbnb)"
      ],
      "metadata": {
        "id": "o58-TEIhveiU"
      },
      "execution_count": null,
      "outputs": []
    },
    {
      "cell_type": "markdown",
      "source": [
        "##### 1. Why did you pick the specific chart?"
      ],
      "metadata": {
        "id": "EXh0U9oCveiU"
      }
    },
    {
      "cell_type": "markdown",
      "source": [
        "Answer Here.\n",
        "\n",
        "Pair plot is used to understand the best set of features to explain a relationship between two variables or to form the most separated clusters."
      ],
      "metadata": {
        "id": "eMmPjTByveiU"
      }
    },
    {
      "cell_type": "markdown",
      "source": [
        "##### 2. What is/are the insight(s) found from the chart?"
      ],
      "metadata": {
        "id": "22aHeOlLveiV"
      }
    },
    {
      "cell_type": "markdown",
      "source": [
        "Answer Here\n",
        "\n",
        "Here we got to know the correlation between the different variables and outliers present in the variables."
      ],
      "metadata": {
        "id": "uPQ8RGwHveiV"
      }
    },
    {
      "cell_type": "markdown",
      "source": [
        "## **5. Solution to Business Objective**"
      ],
      "metadata": {
        "id": "JcMwzZxoAimU"
      }
    },
    {
      "cell_type": "markdown",
      "source": [
        "#### What do you suggest the client to achieve Business Objective ?\n",
        "Explain Briefly."
      ],
      "metadata": {
        "id": "8G2x9gOozGDZ"
      }
    },
    {
      "cell_type": "markdown",
      "source": [
        "Answer Here.\n",
        "\n",
        "Firstly, pay attention to the reviews provided by the customers which will help to enhance the quality of rooms or prices, and should focus on the suggestions provided in the reviews.\n",
        "\n",
        "Secondly, customer satisfaction can only be achieved by providing the best services at budget-friendly prices\n",
        "\n",
        " Lastly, to add up more traffic/customers should  focus on advertisement and quality services which will bring bring customers and help in increasing the revenue of the business."
      ],
      "metadata": {
        "id": "pASKb0qOza21"
      }
    },
    {
      "cell_type": "markdown",
      "source": [
        "# **Conclusion**"
      ],
      "metadata": {
        "id": "gCX9965dhzqZ"
      }
    },
    {
      "cell_type": "markdown",
      "source": [
        "Write the conclusion here.\n",
        "\n",
        "We observed that the Data in this Airbnb has 16 columns and 48895 rows, no duplicated values but has missing data in four columns which has been treated as per the need. Then we find the number of host id and maximum listing, we also use the latitude and longitude to represent it on the map. Then we found that the \"Entire room/apt\" is the most preferred room, and the \"Williamsburg\" has the most listing.\"Manhattan\" has the most number of rooms followed by the \"Brooklyn\".Here, we also observed that the number of the reviews has been provided by the people of \"Queens\" the most.\n",
        "1. we find that the host name **sonder(NYC)** has listed the highest number of beliefs in **Manhattan** followeund.\n",
        "2. we found that **Entire home/apt** is the highest number of room typhostnamel and prices are high in brooklyn and Manhattan for the enManhattanm/apt.  \n",
        "3. follofollowove visualization we can say that most people like to stay in less price and their reviews are higher in those areas.\n",
        "4. we have found the busiest host: Dona, ji, Maya, carol, and Danielle.\n",
        "5. now we have seen that 10 hosts who are changing maximum price: jelena kathrine,enni, matt, oison, amy, rum, jessicaJessica, and jack max price is 10000 USD\n",
        "6. from this visualization we found that most of the people likely to stay at entire home and private room which are present in Manhattan, Brooklyn and queens and also vistors referring stay in room which listing price is less.\n",
        "7. we have seen all the correlation between different variables.\n",
        "8. Manhattan has more listed properties with entire homes/ apt around 27% of total listed properties followed by Brooklyn with around 19.6% private rooms are more in Brooklyn as in 20.7% of total listed properties followed by Manhattan with 6.9% pf private rooms are frpom Queens . we can infer that Brooklyn, Queens,Bronx has more private room types while Manhattan which has the highest no of listings in entre NYC has more Entire home/ apt room types."
      ],
      "metadata": {
        "id": "Fjb1IsQkh3yE"
      }
    },
    {
      "cell_type": "markdown",
      "source": [
        "### ***Hurrah! You have successfully completed your EDA Capstone Project !!!***"
      ],
      "metadata": {
        "id": "gIfDvo9L0UH2"
      }
    }
  ]
}